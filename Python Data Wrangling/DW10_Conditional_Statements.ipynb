{
 "cells": [
  {
   "cell_type": "markdown",
   "metadata": {},
   "source": [
    "### Overview\n",
    "IF Statements in Python allows us to tell the computer to perform alternative actions based on a certain set of results.\n",
    "* Use a single ‘=‘ to assign a variable a value\n",
    "e.g: tuna=‘fish’\n",
    "* Use double ‘==‘ when writing a condition in an IF statement\n",
    "##### IF: Test a condition is true/false\n",
    "    If true:\n",
    "        Execute code\n",
    "If true, execute code. If false, do not execute code and do nothing\n",
    "##### IF ELSE: Test a condition is true/false\n",
    "    If true:\n",
    "        Execute code\n",
    "    Else:\n",
    "        Execute different code\n",
    "##### ELIF: Short for else if\n",
    "    if case1:\n",
    "        perform action 1\n",
    "    elif case2:\n",
    "        perform action 2\n",
    "    else: \n",
    "        perform action 3\n",
    "Use for multiple if tests"
   ]
  },
  {
   "cell_type": "markdown",
   "metadata": {},
   "source": [
    "## Examples"
   ]
  },
  {
   "cell_type": "markdown",
   "metadata": {},
   "source": [
    "### If Else"
   ]
  },
  {
   "cell_type": "code",
   "execution_count": 19,
   "metadata": {
    "collapsed": false
   },
   "outputs": [
    {
     "name": "stdout",
     "output_type": "stream",
     "text": [
      "The color is blue!\n"
     ]
    }
   ],
   "source": [
    "x = 'Blue'\n",
    "\n",
    "if x == 'Blue':\n",
    "    print 'The color is blue!'\n",
    "else:\n",
    "    print 'The color is not blue'"
   ]
  },
  {
   "cell_type": "code",
   "execution_count": 20,
   "metadata": {
    "collapsed": false
   },
   "outputs": [
    {
     "name": "stdout",
     "output_type": "stream",
     "text": [
      "The color is not blue\n"
     ]
    }
   ],
   "source": [
    "x = 'Green'\n",
    "\n",
    "if x == 'Blue':\n",
    "    print 'The color is blue!'\n",
    "else:\n",
    "    print 'The color is not blue'"
   ]
  },
  {
   "cell_type": "markdown",
   "metadata": {},
   "source": [
    "### If, Elif, Else"
   ]
  },
  {
   "cell_type": "code",
   "execution_count": 21,
   "metadata": {
    "collapsed": false
   },
   "outputs": [],
   "source": [
    "def sex(name):\n",
    "\n",
    "    if name == 'Jason':\n",
    "        print 'You are male!'\n",
    "    elif name =='Alyssa':\n",
    "        print 'You are female!'\n",
    "    elif name =='Alexa':\n",
    "        print 'You are female!'\n",
    "    elif name =='Kian':\n",
    "        print 'You are male!'\n",
    "    else:\n",
    "        print \"What's your name?\" "
   ]
  },
  {
   "cell_type": "code",
   "execution_count": 22,
   "metadata": {
    "collapsed": false
   },
   "outputs": [
    {
     "name": "stdout",
     "output_type": "stream",
     "text": [
      "You are male!\n"
     ]
    }
   ],
   "source": [
    "sex('Jason')"
   ]
  },
  {
   "cell_type": "code",
   "execution_count": 23,
   "metadata": {
    "collapsed": false
   },
   "outputs": [
    {
     "name": "stdout",
     "output_type": "stream",
     "text": [
      "You are female!\n"
     ]
    }
   ],
   "source": [
    "sex('Alyssa')"
   ]
  },
  {
   "cell_type": "code",
   "execution_count": 24,
   "metadata": {
    "collapsed": false
   },
   "outputs": [
    {
     "name": "stdout",
     "output_type": "stream",
     "text": [
      "You are female!\n",
      "None\n"
     ]
    }
   ],
   "source": [
    "name = 'Alexa'\n",
    "print(sex(name))"
   ]
  },
  {
   "cell_type": "code",
   "execution_count": 25,
   "metadata": {
    "collapsed": false
   },
   "outputs": [
    {
     "name": "stdout",
     "output_type": "stream",
     "text": [
      "You are male!\n",
      "None\n"
     ]
    }
   ],
   "source": [
    "name = 'Kian'\n",
    "print(sex(name))"
   ]
  },
  {
   "cell_type": "markdown",
   "metadata": {},
   "source": [
    "### Nested IF Statements"
   ]
  },
  {
   "cell_type": "code",
   "execution_count": 27,
   "metadata": {
    "collapsed": false
   },
   "outputs": [],
   "source": [
    "def car_type(make,color):\n",
    "\n",
    "    if make == 'Audi':\n",
    "        if color == 'Blue':\n",
    "            print 'This car is a blue Audi!'\n",
    "    if make =='BMW':\n",
    "        if color == 'Black':\n",
    "            print 'This car is a black BMW!'\n",
    "    else:\n",
    "        print \"I don't know what car this is!\""
   ]
  },
  {
   "cell_type": "code",
   "execution_count": 29,
   "metadata": {
    "collapsed": false
   },
   "outputs": [
    {
     "name": "stdout",
     "output_type": "stream",
     "text": [
      "This car is a blue Audi!\n",
      "I don't know what car this is!\n",
      "None\n"
     ]
    }
   ],
   "source": [
    "car = 'Audi'\n",
    "color = 'Blue'\n",
    "print(car_type(car,color))"
   ]
  },
  {
   "cell_type": "code",
   "execution_count": 30,
   "metadata": {
    "collapsed": false
   },
   "outputs": [
    {
     "name": "stdout",
     "output_type": "stream",
     "text": [
      "I don't know what car this is!\n",
      "None\n"
     ]
    }
   ],
   "source": [
    "car = 'Audi'\n",
    "color = 'Black'\n",
    "print(car_type(car,color))"
   ]
  },
  {
   "cell_type": "code",
   "execution_count": null,
   "metadata": {
    "collapsed": true
   },
   "outputs": [],
   "source": []
  }
 ],
 "metadata": {
  "kernelspec": {
   "display_name": "Python 2",
   "language": "python",
   "name": "python2"
  },
  "language_info": {
   "codemirror_mode": {
    "name": "ipython",
    "version": 2
   },
   "file_extension": ".py",
   "mimetype": "text/x-python",
   "name": "python",
   "nbconvert_exporter": "python",
   "pygments_lexer": "ipython2",
   "version": "2.7.10"
  }
 },
 "nbformat": 4,
 "nbformat_minor": 0
}
