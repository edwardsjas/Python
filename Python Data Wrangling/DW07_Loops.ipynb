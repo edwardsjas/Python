{
 "cells": [
  {
   "cell_type": "markdown",
   "metadata": {},
   "source": [
    "#####Use loops to run a block of code multiple times\n",
    "* Without typing it out multiple times"
   ]
  },
  {
   "cell_type": "markdown",
   "metadata": {},
   "source": [
    "###While Loops"
   ]
  },
  {
   "cell_type": "markdown",
   "metadata": {},
   "source": [
    "##### The while code does this\n",
    "* while the variable ‘x’ <=10\n",
    "* print the variable\n",
    "* 1st run, x=4, print 4, add 1 to variable (now 5)\n",
    "* 2nd run, x=5, print 5, add 1 to variable (now 6)\n",
    "* loop will stop when x =10, so prints 4 to 10 (loops through code 7 times)\n",
    "* from 4 to 10, the condition is true and runs the code\n",
    "* when it gets to 11, the condition is false and the loop stops\n",
    "* conrol the loop by changing the variable. b+-1\n",
    "* without the b+=1, the block of code will run infinitely"
   ]
  },
  {
   "cell_type": "code",
   "execution_count": 23,
   "metadata": {
    "collapsed": false
   },
   "outputs": [
    {
     "data": {
      "text/plain": [
       "4"
      ]
     },
     "execution_count": 23,
     "metadata": {},
     "output_type": "execute_result"
    }
   ],
   "source": [
    "# Create variable 'x' and assign it a value of 1\n",
    "# Show value of 'x'\n",
    "x=4\n",
    "x"
   ]
  },
  {
   "cell_type": "code",
   "execution_count": 22,
   "metadata": {
    "collapsed": false
   },
   "outputs": [
    {
     "name": "stdout",
     "output_type": "stream",
     "text": [
      "4\n",
      "5\n",
      "6\n",
      "7\n",
      "8\n",
      "9\n",
      "10\n"
     ]
    }
   ],
   "source": [
    "# Put variable 'x' in a while loop\n",
    "while x <= 10:\n",
    "    print(x)\n",
    "    x+=1"
   ]
  },
  {
   "cell_type": "markdown",
   "metadata": {},
   "source": [
    "###For Loop"
   ]
  },
  {
   "cell_type": "markdown",
   "metadata": {},
   "source": [
    "#####The For loop does this\n",
    "* Assign a list to a variable\n",
    "* Use the For loop to loop through the list\n"
   ]
  },
  {
   "cell_type": "markdown",
   "metadata": {},
   "source": [
    "#####The code below does this\n",
    "* create a list and assign it to variable 'y'\n",
    "* show values in list\n",
    "* create the code to run\n",
    "* it will run and loop through the whole list then stop"
   ]
  },
  {
   "cell_type": "code",
   "execution_count": 35,
   "metadata": {
    "collapsed": false
   },
   "outputs": [
    {
     "name": "stdout",
     "output_type": "stream",
     "text": [
      "['A', 'B', 'C', 'D']\n"
     ]
    }
   ],
   "source": [
    "list01 = ['A','B','C','D']\n",
    "print(list01)"
   ]
  },
  {
   "cell_type": "code",
   "execution_count": 38,
   "metadata": {
    "collapsed": false
   },
   "outputs": [
    {
     "name": "stdout",
     "output_type": "stream",
     "text": [
      "The letter is A\n",
      "The letter is B\n",
      "The letter is C\n",
      "The letter is D\n"
     ]
    }
   ],
   "source": [
    "for y in list01:\n",
    "    print('The letter is ' + y)"
   ]
  },
  {
   "cell_type": "markdown",
   "metadata": {},
   "source": [
    "#####The code below does this\n",
    "* create a list of numbers\n",
    "* show list values\n",
    "* one at a time, assign each value in list to 'i'\n",
    "* multiply 'i' by 10 and store in new variable z\n",
    "* loop through list and do the 'i * 10\"\n",
    "* when loop completed, print 'All done'"
   ]
  },
  {
   "cell_type": "code",
   "execution_count": 39,
   "metadata": {
    "collapsed": false
   },
   "outputs": [
    {
     "name": "stdout",
     "output_type": "stream",
     "text": [
      "(100, 200, 300, 400)\n"
     ]
    }
   ],
   "source": [
    "list02 = (100,200,300,400)\n",
    "print(list02)"
   ]
  },
  {
   "cell_type": "code",
   "execution_count": 40,
   "metadata": {
    "collapsed": false
   },
   "outputs": [
    {
     "name": "stdout",
     "output_type": "stream",
     "text": [
      "1000\n",
      "2000\n",
      "3000\n",
      "4000\n"
     ]
    }
   ],
   "source": [
    "for i in list02:\n",
    "    z = i * 10\n",
    "    print(z)"
   ]
  },
  {
   "cell_type": "code",
   "execution_count": 41,
   "metadata": {
    "collapsed": false
   },
   "outputs": [
    {
     "name": "stdout",
     "output_type": "stream",
     "text": [
      "1000\n",
      "2000\n",
      "3000\n",
      "4000\n",
      "All done\n"
     ]
    }
   ],
   "source": [
    "for i in list02:\n",
    "    z = i * 10\n",
    "    print(z)\n",
    "else:\n",
    "    print('All done')"
   ]
  },
  {
   "cell_type": "markdown",
   "metadata": {},
   "source": [
    "###Use For Loop to loop through a dictionary"
   ]
  },
  {
   "cell_type": "code",
   "execution_count": 45,
   "metadata": {
    "collapsed": false
   },
   "outputs": [
    {
     "name": "stdout",
     "output_type": "stream",
     "text": [
      "{'A': 1, 'C': 3, 'B': 2, 'D': 4}\n"
     ]
    }
   ],
   "source": [
    "# Loop through elements in a dictionary\n",
    "# Create a dictionary\n",
    "# Show dictionary\n",
    "dic01 = {'A':1,'B':2,'C':3, 'D':4}\n",
    "print(dic01)"
   ]
  },
  {
   "cell_type": "code",
   "execution_count": 48,
   "metadata": {
    "collapsed": false
   },
   "outputs": [
    {
     "name": "stdout",
     "output_type": "stream",
     "text": [
      "A\n",
      "C\n",
      "B\n",
      "D\n"
     ]
    }
   ],
   "source": [
    "for i in dic01:\n",
    "    print (i)"
   ]
  },
  {
   "cell_type": "code",
   "execution_count": 49,
   "metadata": {
    "collapsed": false
   },
   "outputs": [
    {
     "name": "stdout",
     "output_type": "stream",
     "text": [
      "('A', 1)\n",
      "('C', 3)\n",
      "('B', 2)\n",
      "('D', 4)\n"
     ]
    }
   ],
   "source": [
    "# Loop through elements and values in a dictionary\n",
    "for i in dic01:\n",
    "    print (i,dic01[i])"
   ]
  },
  {
   "cell_type": "code",
   "execution_count": null,
   "metadata": {
    "collapsed": true
   },
   "outputs": [],
   "source": []
  }
 ],
 "metadata": {
  "kernelspec": {
   "display_name": "Python 2",
   "language": "python",
   "name": "python2"
  },
  "language_info": {
   "codemirror_mode": {
    "name": "ipython",
    "version": 2
   },
   "file_extension": ".py",
   "mimetype": "text/x-python",
   "name": "python",
   "nbconvert_exporter": "python",
   "pygments_lexer": "ipython2",
   "version": "2.7.10"
  }
 },
 "nbformat": 4,
 "nbformat_minor": 0
}
